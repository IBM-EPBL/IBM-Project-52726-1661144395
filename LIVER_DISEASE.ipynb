{
  "cells": [
    {
      "cell_type": "markdown",
      "metadata": {
        "id": "GQzTwV_nfsn9"
      },
      "source": [
        "## IMPORT THE LIBRARIES"
      ]
    },
    {
      "cell_type": "code",
      "execution_count": null,
      "metadata": {
        "id": "G1x9Rt_QpQMV"
      },
      "outputs": [],
      "source": [
        "import numpy as np\n",
        "import pandas as pd\n",
        "import matplotlib.pyplot as plt\n",
        "import seaborn as sns\n",
        "import sklearn \n",
        "import flask\n",
        "import pickle"
      ]
    },
    {
      "cell_type": "markdown",
      "metadata": {
        "id": "YeEK9OMKfux8"
      },
      "source": [
        "## READ THE DATASET"
      ]
    },
    {
      "cell_type": "code",
      "execution_count": null,
      "metadata": {
        "id": "9_srjEMppdQV"
      },
      "outputs": [],
      "source": [
        "df = pd.read_csv(\"/content/indian_liver_patient.csv\")"
      ]
    },
    {
      "cell_type": "code",
      "execution_count": null,
      "metadata": {
        "colab": {
          "base_uri": "https://localhost:8080/",
          "height": 270
        },
        "id": "HNYDOI2_puSn",
        "outputId": "e58032f6-57c5-41a5-9233-d9a956c2b946"
      },
      "outputs": [],
      "source": [
        "df.head()"
      ]
    },
    {
      "cell_type": "markdown",
      "metadata": {
        "id": "W2dNUFIEXPBV"
      },
      "source": [
        "## VISUALIZATION"
      ]
    },
    {
      "cell_type": "markdown",
      "metadata": {
        "id": "xZUcfrkbY40b"
      },
      "source": [
        "## UNI VARIATE ANALYSIS"
      ]
    },
    {
      "cell_type": "code",
      "execution_count": null,
      "metadata": {
        "colab": {
          "base_uri": "https://localhost:8080/"
        },
        "id": "yrEnETs3XOza",
        "outputId": "df828894-d78c-4049-f032-2f6ab31a322d"
      },
      "outputs": [],
      "source": [
        "df['Gender'].value_counts()"
      ]
    },
    {
      "cell_type": "code",
      "execution_count": null,
      "metadata": {
        "colab": {
          "base_uri": "https://localhost:8080/",
          "height": 340
        },
        "id": "B5cGCUv7XOw5",
        "outputId": "82fed860-853a-488a-97e0-623ae45659a0"
      },
      "outputs": [],
      "source": [
        "sns.barplot (df.Gender.value_counts().index , df.Gender.value_counts())"
      ]
    },
    {
      "cell_type": "code",
      "execution_count": null,
      "metadata": {
        "colab": {
          "base_uri": "https://localhost:8080/",
          "height": 358
        },
        "id": "SJKjSOKJXOuf",
        "outputId": "134c1872-aefa-43db-d687-40775e80731f"
      },
      "outputs": [],
      "source": [
        "plt.pie(df.Gender.value_counts(),[0.2,0],labels=['M','F'],autopct=\"%1.1f%%\",colors=['blue','red'])"
      ]
    },
    {
      "cell_type": "markdown",
      "metadata": {
        "id": "tQaLLbjpZrvw"
      },
      "source": [
        "## BI VARIATE ANALYSIS"
      ]
    },
    {
      "cell_type": "code",
      "execution_count": null,
      "metadata": {
        "colab": {
          "base_uri": "https://localhost:8080/",
          "height": 300
        },
        "id": "bJtSyVr1XOsR",
        "outputId": "59a27536-2bf0-42db-9e87-ba101f30bc33"
      },
      "outputs": [],
      "source": [
        "plt.figure(figsize=(5,3))\n",
        "sns.lineplot(df.Age,df.Dataset)"
      ]
    },
    {
      "cell_type": "markdown",
      "metadata": {
        "id": "_WfB7HNgbPoN"
      },
      "source": [
        "## MULTI-VARIATE ANALYSIS"
      ]
    },
    {
      "cell_type": "code",
      "execution_count": null,
      "metadata": {
        "colab": {
          "base_uri": "https://localhost:8080/",
          "height": 853
        },
        "id": "RVRhFmI0XOqA",
        "outputId": "7790ad94-71d5-47ff-f0f2-c70536e1c290"
      },
      "outputs": [],
      "source": [
        "sns.pairplot(df)"
      ]
    },
    {
      "cell_type": "code",
      "execution_count": null,
      "metadata": {
        "colab": {
          "base_uri": "https://localhost:8080/",
          "height": 823
        },
        "id": "zhznVE41XOn1",
        "outputId": "7dda4267-a00f-4a43-d5c3-143858bcdc30"
      },
      "outputs": [],
      "source": [
        "sns.pairplot(df,hue='Dataset',kind ='reg')"
      ]
    },
    {
      "cell_type": "markdown",
      "metadata": {
        "id": "JeazCORue8md"
      },
      "source": [
        "## CORRELATION BETWEEN NUMERICAL COLUMNS THROUGH HEAT MAP"
      ]
    },
    {
      "cell_type": "code",
      "execution_count": null,
      "metadata": {
        "colab": {
          "base_uri": "https://localhost:8080/",
          "height": 364
        },
        "id": "-mdm_-jOp_2n",
        "outputId": "24e24666-fce2-4361-9ef6-05adb89c084e"
      },
      "outputs": [],
      "source": [
        "df.describe()"
      ]
    },
    {
      "cell_type": "code",
      "execution_count": null,
      "metadata": {
        "colab": {
          "base_uri": "https://localhost:8080/",
          "height": 728
        },
        "id": "m3h7yTkGfXmN",
        "outputId": "421d04e4-7068-481b-d541-6cc159f619cc"
      },
      "outputs": [],
      "source": [
        "plt.figure(figsize=(10,10))\n",
        "sns.heatmap(df.corr(), annot=True)\n",
        "plt.show()"
      ]
    },
    {
      "cell_type": "markdown",
      "metadata": {
        "id": "eVFKs6mTf184"
      },
      "source": [
        "## CHECKING NULL VALUES AND REPLACING THEM "
      ]
    },
    {
      "cell_type": "code",
      "execution_count": null,
      "metadata": {
        "colab": {
          "base_uri": "https://localhost:8080/"
        },
        "id": "mRMFV9JWpyP5",
        "outputId": "2f8152cb-221e-46f2-db80-a0b858d74035"
      },
      "outputs": [],
      "source": [
        "df.isnull().any()"
      ]
    },
    {
      "cell_type": "code",
      "execution_count": null,
      "metadata": {
        "colab": {
          "base_uri": "https://localhost:8080/"
        },
        "id": "7Z2fH4Wmp2Jt",
        "outputId": "edd671e1-3b33-47ab-c207-8c9986f5dbbe"
      },
      "outputs": [],
      "source": [
        "df.isnull().sum()"
      ]
    },
    {
      "cell_type": "code",
      "execution_count": null,
      "metadata": {
        "id": "Q5kg4KkHqG8T"
      },
      "outputs": [],
      "source": [
        "df['Albumin_and_Globulin_Ratio'].fillna((df['Albumin_and_Globulin_Ratio'].mean()), inplace=True)"
      ]
    },
    {
      "cell_type": "code",
      "execution_count": null,
      "metadata": {
        "colab": {
          "base_uri": "https://localhost:8080/"
        },
        "id": "zt19U50RqPr4",
        "outputId": "aa46baf4-6360-4784-c210-9cd9457a55db"
      },
      "outputs": [],
      "source": [
        "df.isnull().any()"
      ]
    },
    {
      "cell_type": "markdown",
      "metadata": {
        "id": "2FfUwlXdf9SF"
      },
      "source": [
        "## SPLITTING THE DATASET INTO X= INDEPENDENT VARIABLES AND Y = DEPENDENT VARIABLES"
      ]
    },
    {
      "cell_type": "code",
      "execution_count": null,
      "metadata": {
        "id": "-F1KIqtrqTvN"
      },
      "outputs": [],
      "source": [
        "X=df.iloc[:,0:-1]\n",
        "y=df.iloc[:,-1]"
      ]
    },
    {
      "cell_type": "markdown",
      "metadata": {
        "id": "SmLC5pEmgHwT"
      },
      "source": [
        "## PERFORM ENCODING"
      ]
    },
    {
      "cell_type": "code",
      "execution_count": null,
      "metadata": {
        "id": "agslkyeSrtVk"
      },
      "outputs": [],
      "source": [
        "from sklearn.preprocessing import LabelEncoder\n",
        "le=LabelEncoder()"
      ]
    },
    {
      "cell_type": "code",
      "execution_count": null,
      "metadata": {
        "id": "ZgRkCsSArtPr"
      },
      "outputs": [],
      "source": [
        "X.Gender=le.fit_transform(X.Gender)"
      ]
    },
    {
      "cell_type": "code",
      "execution_count": null,
      "metadata": {
        "colab": {
          "base_uri": "https://localhost:8080/",
          "height": 270
        },
        "id": "GxdHFhP6r5OJ",
        "outputId": "62b5149a-8731-4b06-c8b2-c5d609f9360d"
      },
      "outputs": [],
      "source": [
        "X.head()"
      ]
    },
    {
      "cell_type": "markdown",
      "metadata": {
        "id": "URTB6PpYgLby"
      },
      "source": [
        "## SCALING"
      ]
    },
    {
      "cell_type": "code",
      "execution_count": null,
      "metadata": {
        "id": "eILF6X0br5Mj"
      },
      "outputs": [],
      "source": [
        "from sklearn.preprocessing import scale"
      ]
    },
    {
      "cell_type": "code",
      "execution_count": null,
      "metadata": {
        "colab": {
          "base_uri": "https://localhost:8080/",
          "height": 270
        },
        "id": "T4s7R6akr5JZ",
        "outputId": "e063f7af-4189-44ca-e804-1e67dde8d9ef"
      },
      "outputs": [],
      "source": [
        "x_scaled=pd.DataFrame(scale(X),columns=X.columns)\n",
        "x_scaled.head()"
      ]
    },
    {
      "cell_type": "markdown",
      "metadata": {
        "id": "JYTJ429TgPFM"
      },
      "source": [
        "## SPLIT THE DATA INTO TRAINING AND TESTING"
      ]
    },
    {
      "cell_type": "code",
      "execution_count": null,
      "metadata": {
        "id": "w5hW0WCNrUiq"
      },
      "outputs": [],
      "source": [
        "from sklearn.model_selection import train_test_split\n",
        "x_train,x_test,y_train,y_test = train_test_split(X,y,test_size = 0.25,random_state = 47)"
      ]
    },
    {
      "cell_type": "markdown",
      "metadata": {
        "id": "xJY8IqX3hOAk"
      },
      "source": [
        "## MODEL BUILDING"
      ]
    },
    {
      "cell_type": "code",
      "execution_count": null,
      "metadata": {
        "id": "TnzeXYJ1hPF-"
      },
      "outputs": [],
      "source": [
        "from sklearn.ensemble import RandomForestClassifier "
      ]
    },
    {
      "cell_type": "code",
      "execution_count": null,
      "metadata": {
        "id": "2qqwvOwgiKQq"
      },
      "outputs": [],
      "source": [
        "RFmodel = RandomForestClassifier()"
      ]
    },
    {
      "cell_type": "code",
      "execution_count": null,
      "metadata": {
        "colab": {
          "base_uri": "https://localhost:8080/"
        },
        "id": "sq9-cwgiiKO_",
        "outputId": "f0acc059-e891-4af3-8b6e-6be87f6feb6b"
      },
      "outputs": [],
      "source": [
        "RFmodel.fit(x_train,y_train)"
      ]
    },
    {
      "cell_type": "code",
      "execution_count": null,
      "metadata": {
        "colab": {
          "base_uri": "https://localhost:8080/"
        },
        "id": "0NkRRcLYiKMJ",
        "outputId": "f7adff8e-4f24-49da-c636-4258e5449508"
      },
      "outputs": [],
      "source": [
        "y_predict = RFmodel.predict(x_test)\n",
        "y_predict"
      ]
    },
    {
      "cell_type": "code",
      "execution_count": null,
      "metadata": {
        "colab": {
          "base_uri": "https://localhost:8080/"
        },
        "id": "KgUey3O_iKIV",
        "outputId": "1a4037d7-373a-4231-ae8b-d7ce8539ffc4"
      },
      "outputs": [],
      "source": [
        "y_predict_train = RFmodel.predict(x_train)\n",
        "y_predict"
      ]
    },
    {
      "cell_type": "markdown",
      "metadata": {
        "id": "g9WHSHwWigKG"
      },
      "source": [
        "## EVALUATION MODEL"
      ]
    },
    {
      "cell_type": "code",
      "execution_count": null,
      "metadata": {
        "id": "pqJ0KNXGiKFx"
      },
      "outputs": [],
      "source": [
        "from sklearn.metrics import accuracy_score,classification_report,confusion_matrix"
      ]
    },
    {
      "cell_type": "code",
      "execution_count": null,
      "metadata": {
        "colab": {
          "base_uri": "https://localhost:8080/"
        },
        "id": "CLBnQ10fiKDT",
        "outputId": "1203c2ad-c923-4334-bb01-98b0cc69b860"
      },
      "outputs": [],
      "source": [
        "print('Testing accuracy = ', accuracy_score(y_test,y_predict))\n",
        "print(\"Training accuracy= \",accuracy_score(y_train,y_predict_train))"
      ]
    },
    {
      "cell_type": "markdown",
      "metadata": {
        "id": "5R1u7cbLinSd"
      },
      "source": [
        "## CONFUSION MATRIX"
      ]
    },
    {
      "cell_type": "code",
      "execution_count": null,
      "metadata": {
        "colab": {
          "base_uri": "https://localhost:8080/",
          "height": 143
        },
        "id": "JknUmE73iKBC",
        "outputId": "fd14b30d-ef56-4629-db26-1cfc09036b09"
      },
      "outputs": [],
      "source": [
        "pd.crosstab(y_test,y_predict)"
      ]
    },
    {
      "cell_type": "code",
      "execution_count": null,
      "metadata": {
        "colab": {
          "base_uri": "https://localhost:8080/",
          "height": 143
        },
        "id": "QDmsJbQriJ-a",
        "outputId": "e291281f-66ae-4568-e948-c590c9ebd634"
      },
      "outputs": [],
      "source": [
        "pd.crosstab(y_test,y_predict)"
      ]
    },
    {
      "cell_type": "markdown",
      "metadata": {
        "id": "aHW0Y_yiiupx"
      },
      "source": [
        "## USER INPUT"
      ]
    },
    {
      "cell_type": "code",
      "execution_count": null,
      "metadata": {
        "colab": {
          "base_uri": "https://localhost:8080/"
        },
        "id": "ZayqgrheiJ1N",
        "outputId": "fda2f3db-52bb-4b99-a045-aaa99302988f"
      },
      "outputs": [],
      "source": [
        "Age = int(input())\n",
        "Gender = input()\n",
        "Total_Bilirubin = float(input())\n",
        "Direct_Bilirubin\t= float(input())\n",
        "Alkaline_Phosphotase\t= int(input())\n",
        "Alamine_Aminotransferase\t= int(input())\n",
        "Aspartate_Aminotransferase\t= int(input())\n",
        "Total_Protiens\t= float(input())\n",
        "Albumin = float(input())\n",
        "Albumin_and_Globulin_Ratio = float(input())"
      ]
    },
    {
      "cell_type": "code",
      "execution_count": null,
      "metadata": {
        "id": "eD6cX8o0i1un"
      },
      "outputs": [],
      "source": [
        "data = [[Age,Gender,Total_Bilirubin,Direct_Bilirubin,Alkaline_Phosphotase,Alamine_Aminotransferase,Aspartate_Aminotransferase,Total_Protiens,Albumin,Albumin_and_Globulin_Ratio]]"
      ]
    },
    {
      "cell_type": "code",
      "execution_count": null,
      "metadata": {
        "id": "xksdsAABi3JR"
      },
      "outputs": [],
      "source": [
        "data = pd.DataFrame(data)"
      ]
    },
    {
      "cell_type": "code",
      "execution_count": null,
      "metadata": {
        "colab": {
          "base_uri": "https://localhost:8080/",
          "height": 81
        },
        "id": "tM_HOxoWi6hL",
        "outputId": "01103a95-11a0-4b83-948a-a099cfc5eaba"
      },
      "outputs": [],
      "source": [
        "data"
      ]
    },
    {
      "cell_type": "code",
      "execution_count": null,
      "metadata": {
        "id": "f6DactcEi6fI"
      },
      "outputs": [],
      "source": [
        "data.columns =['Age','Gender','Total_Bilirubin','Direct_Bilirubin','Alkaline_Phosphotase','Alamine_Aminotransferase','Aspartate_Aminotransferase','Total_Protiens','Albumin','Albumin_and_Globulin_Ratio']"
      ]
    },
    {
      "cell_type": "code",
      "execution_count": null,
      "metadata": {
        "colab": {
          "base_uri": "https://localhost:8080/",
          "height": 145
        },
        "id": "jlGDnK9bi6bt",
        "outputId": "e6656dda-3f9c-49e1-cd48-7308821e46bf"
      },
      "outputs": [],
      "source": [
        "data"
      ]
    },
    {
      "cell_type": "code",
      "execution_count": null,
      "metadata": {
        "colab": {
          "base_uri": "https://localhost:8080/"
        },
        "id": "IHXVS_NBi6Yz",
        "outputId": "e0d5be0e-82e2-4a4c-aaf7-c35a2dae0842"
      },
      "outputs": [],
      "source": [
        "data['Gender']"
      ]
    },
    {
      "cell_type": "markdown",
      "metadata": {
        "id": "o70OE7-vjCoD"
      },
      "source": [
        "## ENCODING"
      ]
    },
    {
      "cell_type": "code",
      "execution_count": null,
      "metadata": {
        "id": "OMxBIfPQi6U1"
      },
      "outputs": [],
      "source": [
        "data.Gender=le.fit_transform(data.Gender)"
      ]
    },
    {
      "cell_type": "code",
      "execution_count": null,
      "metadata": {
        "id": "nY1Nfcv9i6SP"
      },
      "outputs": [],
      "source": [
        "P= RFmodel.predict(data)"
      ]
    },
    {
      "cell_type": "code",
      "execution_count": null,
      "metadata": {
        "colab": {
          "base_uri": "https://localhost:8080/"
        },
        "id": "XQaUvFEhi6QP",
        "outputId": "99c9aca9-be7b-4415-a8b6-0e713f5dd15e"
      },
      "outputs": [],
      "source": [
        "P\n",
        "# actual output is : 1"
      ]
    },
    {
      "cell_type": "code",
      "execution_count": null,
      "metadata": {
        "colab": {
          "base_uri": "https://localhost:8080/"
        },
        "id": "to8XxdtNqxwL",
        "outputId": "7d6fe5dd-5d9d-45e3-bd10-3233fe8fe86b"
      },
      "outputs": [],
      "source": [
        "import joblib\n",
        "joblib.dump(RFmodel,'model.pkl')"
      ]
    },
    {
      "cell_type": "code",
      "execution_count": null,
      "metadata": {
        "id": "9-gc_SFdqxtA"
      },
      "outputs": [],
      "source": []
    },
    {
      "cell_type": "code",
      "execution_count": null,
      "metadata": {
        "id": "8930kIuBqxqD"
      },
      "outputs": [],
      "source": []
    }
  ],
  "metadata": {
    "colab": {
      "collapsed_sections": [],
      "provenance": []
    },
    "kernelspec": {
      "display_name": "Python 3.7.4 64-bit",
      "language": "python",
      "name": "python3"
    },
    "language_info": {
      "name": "python",
      "version": "3.7.4"
    },
    "vscode": {
      "interpreter": {
        "hash": "786eb81b732d41cdebf6eacde8437e50bbeccf7019570219d2c76c5df448ccfd"
      }
    }
  },
  "nbformat": 4,
  "nbformat_minor": 0
}
